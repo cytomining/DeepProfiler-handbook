{
 "cells": [
  {
   "cell_type": "markdown",
   "id": "85e85188",
   "metadata": {},
   "source": [
    "# 4. Train a model and profile cells\n",
    "\n",
    "After configuring the project, running DeepProfiler is straightforward. There are two main commands that can be run for training and then extracting features with a trained network.\n",
    "\n",
    "\n",
    "## **4.1 Train a model:**\n",
    "\n",
    "If using a pretrained model, skip this step and move to 4.2 directly.\n",
    "\n",
    "```\n",
    "python3 deepprofiler --root=/home/ubuntu/project/ --config filename.json train\n",
    "```\n",
    "\n",
    "\n",
    "## **4.2 Infer profiles from a model:**"
   ]
  },
  {
   "cell_type": "code",
   "execution_count": 1,
   "id": "4daa18c6",
   "metadata": {
    "tags": [
     "full-width"
    ]
   },
   "outputs": [
    {
     "ename": "SyntaxError",
     "evalue": "invalid syntax (3447142817.py, line 1)",
     "output_type": "error",
     "traceback": [
      "\u001b[0;36m  File \u001b[0;32m\"/var/folders/0y/5d1shp9n6kq856jtm9t10mcw0000gq/T/ipykernel_83074/3447142817.py\"\u001b[0;36m, line \u001b[0;32m1\u001b[0m\n\u001b[0;31m    python3 deepprofiler --root=/home/ubuntu/project/ --config filename.json --exp experiment_name profile\u001b[0m\n\u001b[0m            ^\u001b[0m\n\u001b[0;31mSyntaxError\u001b[0m\u001b[0;31m:\u001b[0m invalid syntax\n"
     ]
    }
   ],
   "source": [
    "python3 deepprofiler --root=/home/ubuntu/project/ --config filename.json --exp experiment_name profile"
   ]
  },
  {
   "cell_type": "markdown",
   "id": "af1c062f",
   "metadata": {},
   "source": [
    "```\n",
    "python3 deepprofiler --root=/home/ubuntu/project/ --config filename.json --exp experiment_name profile\n",
    "```\n",
    "\n",
    "```{admonition} Note\n",
    ":class: tip\n",
    "The `--config filename.json` parameter points to the name of a file from /inputs/config folder.\n",
    "```\n",
    "\n",
    "\n",
    "### Profiling from a self-trained model:\n",
    "\n",
    "After training your own model, you can profile your data using the checkpoints from the training:\n",
    "\n",
    "The _profile_ section of your config should look something like this:\n",
    "\n",
    "\n",
    "```\n",
    "\"profile\": {\n",
    "      \"feature_layer\": \"pool5\",\n",
    "      \"checkpoint\": \"checkpoint_0020.hdf5\",\n",
    "      \"batch_size\": 128\n",
    "    }\n",
    "```\n",
    "\n",
    "\n",
    "When profiling from a model pre-trained on ImageNet images, the ‘checkpoint’ simply is replaced with “None”.\n",
    "\n",
    "\n",
    "\n",
    "\n",
    "\n",
    "## **Optional project-dependent functions:**\n",
    "\n",
    "````{dropdown} **Prepare a dataset:**\n",
    "\n",
    "This tool computes illumination statistics, illumination correction functions and compresses images into PNG format. This is useful when the image collection used for training is too large and cannot be kept in a single server (think TBs of imaging data in a data center). Compressing a large collection of images can make training feasible for a diversity of cellular phenotypes. We designed this functionality to compress images as much as possible while losing the minimum amount of information.\n",
    "\n",
    "\n",
    "```\n",
    "python3 deepprofiler --root=/home/ubuntu/project/ --config filename.json prepare\n",
    "python3 deepprofiler --root=/project_folder/example_data --config=config.json prepare\n",
    "```\n",
    "\n",
    "\n",
    "````\n",
    "\n",
    "````{dropdown} **Split index file**:\n",
    "\n",
    "Create multiple files with parts of the index for parallelization purposes. Parallelization is not automatic, it requires manually launching different DeepProfiler instances using different index files. This function just loads the index and creates separate files without repeating information, so a different machine can be assigned to profile different parts of the dataset.\n",
    "\n",
    "```\n",
    "python3 deepprofiler --root=/home/ubuntu/project/ --config filename.json split\n",
    "```\n",
    "\n",
    "\n",
    "````"
   ]
  }
 ],
 "metadata": {
  "jupytext": {
   "formats": "md:myst",
   "text_representation": {
    "extension": ".md",
    "format_name": "myst",
    "format_version": 0.13,
    "jupytext_version": "1.10.3"
   }
  },
  "kernelspec": {
   "display_name": "Python 3",
   "language": "python",
   "name": "python3"
  },
  "language_info": {
   "codemirror_mode": {
    "name": "ipython",
    "version": 3
   },
   "file_extension": ".py",
   "mimetype": "text/x-python",
   "name": "python",
   "nbconvert_exporter": "python",
   "pygments_lexer": "ipython3",
   "version": "3.8.8"
  },
  "source_map": [
   13,
   31,
   34
  ]
 },
 "nbformat": 4,
 "nbformat_minor": 5
}